{
 "cells": [
  {
   "cell_type": "markdown",
   "metadata": {},
   "source": [
    "#### <font color=\"red\">問1</font>\n",
    "\n",
    "ある年月日に対して曜日を計算し、`2022年4月1日は金曜日です` のような文字列を表示 (`print`) する関数 `get_weekday(year, month, date)` を作成してください。ただし、簡単のため1970年1月1日以降を対象とし、1970年1月1日が木曜日であることを使っていいものとする。\n",
    "\n",
    "```python\n",
    ">>> get_weekday(2022, 4, 1)\n",
    "2022年4月1日は金曜日です\n",
    "```"
   ]
  },
  {
   "cell_type": "markdown",
   "metadata": {},
   "source": [
    "<font color=\"#7F7\">解1</font>"
   ]
  },
  {
   "cell_type": "code",
   "execution_count": 19,
   "metadata": {},
   "outputs": [
    {
     "name": "stdout",
     "output_type": "stream",
     "text": [
      "2022年4月1日は金曜日です\n",
      "1970年1月1日は木曜日です\n",
      "1969年12月31日は木曜日です\n"
     ]
    }
   ],
   "source": [
    "def days_per_year(year):\n",
    "    if year % 4 != 0:\n",
    "        return 365\n",
    "    elif year % 400 == 0:\n",
    "        return 366\n",
    "    elif year % 100 == 0:\n",
    "        return 365\n",
    "    return 366\n",
    "\n",
    "def days_per_month(month, year):\n",
    "    if month not in [2, 4, 6, 9, 11]:\n",
    "        return 31\n",
    "    elif month != 2:\n",
    "        return 30\n",
    "\n",
    "    if days_per_year(year) == 366:\n",
    "        return 29\n",
    "    return 28\n",
    "\n",
    "def get_weekday(year, month, date):\n",
    "    DAYS = \"木金土日月火水\"\n",
    "    elapsed_days_year = sum([days_per_year(y) for y in range(1970, year)])\n",
    "    elapsed_days_month = sum([days_per_month(m, year) for m in range(1, month)])\n",
    "    elapsed_days = (date - 1) + elapsed_days_month + elapsed_days_year\n",
    "\n",
    "    index = elapsed_days % 7\n",
    "    print(f\"{year}年{month}月{date}日は{DAYS[index]}曜日です\")\n",
    "\n",
    "\n",
    "_ = get_weekday(2022, 4, 1), get_weekday(1970, 1, 1), get_weekday(1969, 12, 31)"
   ]
  },
  {
   "cell_type": "markdown",
   "metadata": {},
   "source": [
    "第1回で作った関数を使った解答例。  \n",
    "必ずいくつかの日付について関数を実行してみて結果を確かめること。  \n",
    "また、`get_weekday(1969, 12, 31)` の結果は `1969年12月31日は木曜日です` となる。1970年1月1日より前の日付には対応していないことにも注意すること。"
   ]
  },
  {
   "cell_type": "markdown",
   "metadata": {},
   "source": [
    "<font color=\"#7F7\">解2</font> (標準ライブラリを使う)"
   ]
  },
  {
   "cell_type": "code",
   "execution_count": 20,
   "metadata": {},
   "outputs": [
    {
     "name": "stdout",
     "output_type": "stream",
     "text": [
      "2022年4月1日は金曜日です\n",
      "1970年1月1日は木曜日です\n",
      "1969年12月31日は水曜日です\n"
     ]
    }
   ],
   "source": [
    "from datetime import datetime\n",
    "\n",
    "\n",
    "DAYS = \"月火水木金土日\"\n",
    "\n",
    "def get_weekday(year, month, date):\n",
    "    index = datetime(year, month, date).weekday()\n",
    "    print(f\"{year}年{month}月{date}日は{DAYS[index]}曜日です\")\n",
    "\n",
    "\n",
    "_ = get_weekday(2022, 4, 1), get_weekday(1970, 1, 1), get_weekday(1969, 12, 31)"
   ]
  },
  {
   "cell_type": "markdown",
   "metadata": {},
   "source": [
    "解1のように愚直に解こうとするとコードの量が増えてくる。「考えれば処理を思いつく」レベルであっても、頻繁に使われる機能は標準ライブラリや外部ライブラリに用意されていることが多い。「Python 曜日」「Python get day of week」などで検索し、積極的に外部のライブラリを使うようにしよう。"
   ]
  },
  {
   "cell_type": "markdown",
   "metadata": {},
   "source": [
    "#### <font color=\"red\">問2</font>\n",
    "\n",
    "[フィボナッチ数列](https://ja.wikipedia.org/wiki/%E3%83%95%E3%82%A3%E3%83%9C%E3%83%8A%E3%83%83%E3%83%81%E6%95%B0) の一般項 $F_n\\ (n \\geq 1)$ を出力 (`return`) する関数 `fib(n)` を作成してください。ここで、フィボナッチ数列は以下で定義されます。\n",
    "\n",
    "$$\n",
    "F_1 = 1,\\quad F_2 = 1,\\quad F_n = F_{n - 1} + F_{n - 2}\n",
    "$$\n",
    "\n",
    "```python\n",
    ">>> [fib(n + 1) for n in range(10)]\n",
    "[1, 1, 2, 3, 5, 8, 13, 21, 34, 55]\n",
    "```"
   ]
  },
  {
   "cell_type": "markdown",
   "metadata": {},
   "source": [
    "<font color=\"#0D0\">解1</font>"
   ]
  },
  {
   "cell_type": "code",
   "execution_count": 18,
   "metadata": {},
   "outputs": [
    {
     "data": {
      "text/plain": [
       "[1, 1, 2, 3, 5, 8, 13, 21, 34, 55]"
      ]
     },
     "execution_count": 18,
     "metadata": {},
     "output_type": "execute_result"
    }
   ],
   "source": [
    "def fib(n):\n",
    "    if (n == 1) or (n == 2):\n",
    "        return 1\n",
    "\n",
    "    f_n2 = 1  # n = 3 として F_n-2 の初期値を与える\n",
    "    f_n1 = 1\n",
    "\n",
    "    for _ in range(n - 1):\n",
    "        f_n = f_n2 + f_n1  # F_n の値を計算\n",
    "        f_n1, f_n2 = f_n, f_n1  # F_n-1, F_n-2 の値を更新\n",
    "\n",
    "    return f_n2\n",
    "\n",
    "\n",
    "[fib(n + 1) for n in range(10)]"
   ]
  },
  {
   "cell_type": "markdown",
   "metadata": {},
   "source": [
    "<font color=\"#0D0\">解2</font> (一般項を使う)\n",
    "\n",
    "$$\n",
    "F_n = \\left\\lfloor \\frac{1}{\\sqrt{5}} \\left( \\frac{1 + \\sqrt{5}}{2} \\right)^n + \\frac{1}{2} \\right\\rfloor\n",
    "$$"
   ]
  },
  {
   "cell_type": "code",
   "execution_count": 13,
   "metadata": {},
   "outputs": [
    {
     "data": {
      "text/plain": [
       "[1, 1, 2, 3, 5, 8, 13, 21, 34, 55]"
      ]
     },
     "execution_count": 13,
     "metadata": {},
     "output_type": "execute_result"
    }
   ],
   "source": [
    "from math import floor, sqrt\n",
    "\n",
    "\n",
    "def fib(n):\n",
    "    return floor(((1 + sqrt(5)) / 2) ** n / sqrt(5) + 1 / 2)\n",
    "\n",
    "\n",
    "[fib(n + 1) for n in range(10)]"
   ]
  },
  {
   "cell_type": "markdown",
   "metadata": {},
   "source": [
    "<font color=\"#0D0\">解3</font> (再帰を使う)"
   ]
  },
  {
   "cell_type": "code",
   "execution_count": 14,
   "metadata": {},
   "outputs": [
    {
     "data": {
      "text/plain": [
       "[1, 1, 2, 3, 5, 8, 13, 21, 34, 55]"
      ]
     },
     "execution_count": 14,
     "metadata": {},
     "output_type": "execute_result"
    }
   ],
   "source": [
    "def fib(n):\n",
    "    if (n == 1) or (n == 2):\n",
    "        return 1\n",
    "    return fib(n - 1) + fib(n - 2)\n",
    "\n",
    "\n",
    "[fib(n + 1) for n in range(10)]"
   ]
  },
  {
   "cell_type": "markdown",
   "metadata": {},
   "source": [
    "再帰はコードが短くなる一方で計算量が爆発的に増えることがあるので注意。"
   ]
  }
 ],
 "metadata": {
  "interpreter": {
   "hash": "5c1eaf40d21ad39b95650a0028dc076f2c3b7d953ee9989e64e4869e50588381"
  },
  "kernelspec": {
   "display_name": "Python 3.8.12 64-bit",
   "language": "python",
   "name": "python3"
  },
  "language_info": {
   "codemirror_mode": {
    "name": "ipython",
    "version": 3
   },
   "file_extension": ".py",
   "mimetype": "text/x-python",
   "name": "python",
   "nbconvert_exporter": "python",
   "pygments_lexer": "ipython3",
   "version": "3.9.10"
  },
  "orig_nbformat": 4
 },
 "nbformat": 4,
 "nbformat_minor": 2
}
