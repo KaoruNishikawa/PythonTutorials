{
 "cells": [
  {
   "cell_type": "markdown",
   "metadata": {},
   "source": [
    "#### <font color=\"red\">問1</font>\n",
    "\n",
    "2次方程式 $a x^2 + b x + c = 0$ を解くコードを書いてください。\n",
    "\n",
    "```python\n",
    ">>> solve(a=1, b=-3, c=2)\n",
    "(1.0, 2.0)\n",
    "```"
   ]
  },
  {
   "cell_type": "markdown",
   "metadata": {},
   "source": [
    "<font color=\"#7F7\">解1</font>"
   ]
  },
  {
   "cell_type": "code",
   "execution_count": 1,
   "metadata": {},
   "outputs": [
    {
     "data": {
      "text/plain": [
       "(2.0, 1.0)"
      ]
     },
     "execution_count": 1,
     "metadata": {},
     "output_type": "execute_result"
    }
   ],
   "source": [
    "a = 1\n",
    "b = -3\n",
    "c = 2\n",
    "\n",
    "x1 = (-b + (b ** 2 - 4 * a * c) ** 0.5) / (2 * a)\n",
    "x2 = (-b - (b ** 2 - 4 * a * c) ** 0.5) / (2 * a)\n",
    "\n",
    "x1, x2"
   ]
  },
  {
   "cell_type": "markdown",
   "metadata": {},
   "source": [
    "平方根の計算には\n",
    "\n",
    "- `** 0.5` (0.5乗)\n",
    "- `math.sqrt`\n",
    "- `numpy.sqrt`\n",
    "\n",
    "などが使える。"
   ]
  },
  {
   "cell_type": "markdown",
   "metadata": {},
   "source": [
    "<font color=\"#7F7\">解2</font> (関数化)"
   ]
  },
  {
   "cell_type": "code",
   "execution_count": 2,
   "metadata": {},
   "outputs": [
    {
     "name": "stdout",
     "output_type": "stream",
     "text": [
      "実数解 : (2.0, 1.0)\n",
      "複素数解 : ((-0.12499999999999997+0.4841229182759271j), (-0.12500000000000003-0.4841229182759271j))\n"
     ]
    }
   ],
   "source": [
    "def solve(a, b, c):\n",
    "    x1 = (-b + (b ** 2 - 4 * a * c) ** 0.5) / (2 * a)\n",
    "    x2 = (-b - (b ** 2 - 4 * a * c) ** 0.5) / (2 * a)\n",
    "    return x1, x2\n",
    "\n",
    "print(\"実数解 :\", solve(a=1, b=-3, c=2))\n",
    "print(\"複素数解 :\", solve(4, 1, 1))"
   ]
  },
  {
   "cell_type": "markdown",
   "metadata": {},
   "source": [
    "この関数で既に複素数解への対応ができている。`math.sqrt`, `numpy.sqrt` などを使った場合は計算に失敗するので次のような条件分岐を追加し、使う関数を変える必要がある。"
   ]
  },
  {
   "cell_type": "code",
   "execution_count": 3,
   "metadata": {},
   "outputs": [
    {
     "name": "stdout",
     "output_type": "stream",
     "text": [
      "実数解 : (2.0, 1.0)\n",
      "複素数解 : ((-0.125+0.4841229182759271j), (-0.125-0.4841229182759271j))\n"
     ]
    }
   ],
   "source": [
    "import cmath\n",
    "import math\n",
    "\n",
    "\n",
    "def solve(a, b, c):\n",
    "    discriminant = b ** 2 - 4 * a * c\n",
    "    if discriminant < 0:\n",
    "        x1 = (-b + cmath.sqrt(discriminant)) / (2 * a)  # または numpy.lib.scimath.sqrt(discriminator)\n",
    "        x2 = (-b - cmath.sqrt(discriminant)) / (2 * a)\n",
    "        return x1, x2\n",
    "    else:\n",
    "        x1 = (-b + math.sqrt(discriminant)) / (2 * a)\n",
    "        x2 = (-b - math.sqrt(discriminant)) / (2 * a)\n",
    "        return x1, x2\n",
    "\n",
    "print(\"実数解 :\", solve(a=1, b=-3, c=2))\n",
    "print(\"複素数解 :\", solve(4, 1, 1))"
   ]
  },
  {
   "cell_type": "markdown",
   "metadata": {},
   "source": [
    "任意の実数は2進数で正確に表せないため、計算結果が若干変わることがある。桁落ちに注意する必要はあるものの、普段はそれほど気にしなくてよい。"
   ]
  },
  {
   "cell_type": "markdown",
   "metadata": {},
   "source": [
    "<font color=\"#7F7\">解3</font> (1次関数・重解への対応)"
   ]
  },
  {
   "cell_type": "code",
   "execution_count": 4,
   "metadata": {},
   "outputs": [
    {
     "name": "stdout",
     "output_type": "stream",
     "text": [
      "実数解 : (2.0, 1.0)\n",
      "複素数解 : ((-0.12499999999999997+0.4841229182759271j), (-0.12500000000000003-0.4841229182759271j))\n",
      "1次方程式 : 0.2\n",
      "重解 : 3.0\n"
     ]
    }
   ],
   "source": [
    "def solve(a, b, c):\n",
    "    if a == 0:\n",
    "        return -c / b\n",
    "    discriminant = b ** 2 - 4 * a * c\n",
    "    if discriminant == 0:\n",
    "        return -b / (2 * a)\n",
    "    x1 = (-b + (discriminant) ** 0.5) / (2 * a)\n",
    "    x2 = (-b - (discriminant) ** 0.5) / (2 * a)\n",
    "    return x1, x2\n",
    "\n",
    "print(\"実数解 :\", solve(a=1, b=-3, c=2))\n",
    "print(\"複素数解 :\", solve(4, 1, 1))\n",
    "print(\"1次方程式 :\", solve(0, -5, 1))\n",
    "print(\"重解 :\", solve(1, -6, 9))"
   ]
  },
  {
   "cell_type": "markdown",
   "metadata": {},
   "source": [
    "<font color=\"#0D0\">解4</font> (外部ライブラリの使用)"
   ]
  },
  {
   "cell_type": "code",
   "execution_count": 5,
   "metadata": {},
   "outputs": [
    {
     "data": {
      "text/plain": [
       "[1, 2]"
      ]
     },
     "execution_count": 5,
     "metadata": {},
     "output_type": "execute_result"
    }
   ],
   "source": [
    "import sympy\n",
    "\n",
    "x, a, b, c = sympy.symbols(\"x a b c\")  # 変数の定義\n",
    "equation = a * x ** 2 + b * x + c  # 式の定義\n",
    "\n",
    "substituted = equation.subs({\"a\": 1, \"b\": -3, \"c\": 2})  # 値の代入\n",
    "sympy.solve(substituted, x)  # xについて解く"
   ]
  },
  {
   "cell_type": "code",
   "execution_count": 6,
   "metadata": {},
   "outputs": [
    {
     "data": {
      "text/plain": [
       "[(-b - sqrt(-4*a*c + b**2))/(2*a), (-b + sqrt(-4*a*c + b**2))/(2*a)]"
      ]
     },
     "execution_count": 6,
     "metadata": {},
     "output_type": "execute_result"
    }
   ],
   "source": [
    "# 文字のまま解くこともできる\n",
    "sympy.solve(equation, x)"
   ]
  },
  {
   "cell_type": "markdown",
   "metadata": {},
   "source": [
    "#### <font color=\"red\">問2</font>\n",
    "\n",
    "閏年を考慮し、1年の日数を出力する関数を作ってください。\n",
    "\n",
    "> - 西暦年が4で割り切れる年は(原則として)閏年。\n",
    "> - ただし、西暦年が100で割り切れる年は(原則として)平年。\n",
    "> - ただし、西暦年が400で割り切れる年は必ず閏年。\n",
    ">\n",
    "> (Wikipediaより)\n",
    "\n",
    "```python\n",
    ">>> days_per_year(2022)\n",
    "365\n",
    "```"
   ]
  },
  {
   "cell_type": "markdown",
   "metadata": {},
   "source": [
    "<font color=\"#0D0\">解1</font>"
   ]
  },
  {
   "cell_type": "code",
   "execution_count": 7,
   "metadata": {},
   "outputs": [
    {
     "name": "stdout",
     "output_type": "stream",
     "text": [
      "1900年 : 365\n",
      "2000年 : 366\n",
      "2022年 : 365\n",
      "2024年 : 366\n"
     ]
    }
   ],
   "source": [
    "def days_per_year(year):\n",
    "    if year % 4 != 0:\n",
    "        return 365\n",
    "    elif year % 400 == 0:\n",
    "        return 366\n",
    "    elif year % 100 == 0:\n",
    "        return 365\n",
    "    return 366\n",
    "\n",
    "print(\"1900年 :\", days_per_year(1900))\n",
    "print(\"2000年 :\", days_per_year(2000))\n",
    "print(\"2022年 :\", days_per_year(2022))\n",
    "print(\"2024年 :\", days_per_year(2024))"
   ]
  },
  {
   "cell_type": "markdown",
   "metadata": {},
   "source": [
    "この問題は次の4つの場合を扱っている。\n",
    "\n",
    "- 西暦年が4で割り切れない場合 (2022など) → 平年\n",
    "- 西暦年が400で割り切れる場合 (2000など) → 閏年\n",
    "- 西暦年が100で割り切れるものの400で割り切れない場合 (1900など) → 平年\n",
    "- 西暦年が4で割り切れるものの100で割り切れない場合 (2024など) → 閏年\n",
    "\n",
    "関数が完成したらそれぞれの場合について1回は実行してみて、結果が正しいことを確認する。"
   ]
  },
  {
   "cell_type": "code",
   "execution_count": 8,
   "metadata": {},
   "outputs": [
    {
     "name": "stdout",
     "output_type": "stream",
     "text": [
      "1900年 : 365\n",
      "2000年 : 366\n",
      "2022年 : 365\n",
      "2024年 : 366\n"
     ]
    }
   ],
   "source": [
    "def days_per_year(year):\n",
    "    if year % 4 == 0:\n",
    "        if year % 100 == 0:\n",
    "            if year % 400 == 0:\n",
    "                return 366\n",
    "            else:\n",
    "                return 365\n",
    "        else:\n",
    "            return 366\n",
    "    else:\n",
    "        return 365\n",
    "\n",
    "print(\"1900年 :\", days_per_year(1900))\n",
    "print(\"2000年 :\", days_per_year(2000))\n",
    "print(\"2022年 :\", days_per_year(2022))\n",
    "print(\"2024年 :\", days_per_year(2024))"
   ]
  },
  {
   "cell_type": "markdown",
   "metadata": {},
   "source": [
    "問題文の説明通りにコードを書くとこのような関数になる。結果は正しいが、条件分岐の中でさらに条件分岐を繰り返すと後からコードを読み直すのが大変になる。\n",
    "\n",
    "- 「4で割り切れる→閏年 (例外あり)」ではなく「4で割り切れない→ **例外なく** 平年」から始める\n",
    "- 一度 `return` が実行されるとその後の処理は行われないため、例外は最初に `if` 文で処理し、結果を `return` してしまう  \n",
    "    ```python\n",
    "    def say_hello():\n",
    "        return \"hello\"\n",
    "        print(\"good bye\")  # 実行されない\n",
    "    ```\n",
    "\n",
    "といった工夫により、読みやすいコードを書くようにしよう。"
   ]
  }
 ],
 "metadata": {
  "interpreter": {
   "hash": "5c1eaf40d21ad39b95650a0028dc076f2c3b7d953ee9989e64e4869e50588381"
  },
  "kernelspec": {
   "display_name": "Python 3.8.12 64-bit",
   "language": "python",
   "name": "python3"
  },
  "language_info": {
   "codemirror_mode": {
    "name": "ipython",
    "version": 3
   },
   "file_extension": ".py",
   "mimetype": "text/x-python",
   "name": "python",
   "nbconvert_exporter": "python",
   "pygments_lexer": "ipython3",
   "version": "3.9.10"
  },
  "orig_nbformat": 4
 },
 "nbformat": 4,
 "nbformat_minor": 2
}
