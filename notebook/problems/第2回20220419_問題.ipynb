{
 "cells": [
  {
   "cell_type": "markdown",
   "metadata": {},
   "source": [
    "<font color=\"red\">自分で書いたコードを保存するため、「ドライブにコピー」を押してください</font>"
   ]
  },
  {
   "cell_type": "markdown",
   "metadata": {},
   "source": [
    "#### <font color=\"red\">問1</font>\n",
    "\n",
    "ある年月日に対して曜日を計算し、`2022年4月1日は金曜日です` のような文字列を表示 (`print`) する関数 `get_weekday(year, month, date)` を作成してください。ただし、簡単のため1970年1月1日以降を対象とし、1970年1月1日は木曜日であることを使っていいものとする。\n",
    "\n",
    "```python\n",
    ">>> get_weekday(2022, 4, 1)\n",
    "2022年4月1日は金曜日です\n",
    "```"
   ]
  },
  {
   "cell_type": "code",
   "execution_count": null,
   "metadata": {},
   "outputs": [],
   "source": []
  },
  {
   "cell_type": "markdown",
   "metadata": {},
   "source": [
    "#### <font color=\"red\">問2</font>\n",
    "\n",
    "[フィボナッチ数列](https://ja.wikipedia.org/wiki/%E3%83%95%E3%82%A3%E3%83%9C%E3%83%8A%E3%83%83%E3%83%81%E6%95%B0) の一般項 $F_n\\ (n \\geq 1)$ を計算する関数 `fib(n)` を作成してください。ここで、フィボナッチ数列は以下で定義されます。\n",
    "\n",
    "$$\n",
    "F_1 = 1,\\quad F_2 = 1,\\quad F_n = F_{n - 1} + F_{n - 2}\n",
    "$$\n",
    "\n",
    "```python\n",
    ">>> [fib(n + 1) for n in range(10)]\n",
    "[1, 1, 2, 3, 5, 8, 13, 21, 34, 55]\n",
    "```"
   ]
  },
  {
   "cell_type": "code",
   "execution_count": null,
   "metadata": {},
   "outputs": [],
   "source": []
  }
 ],
 "metadata": {
  "language_info": {
   "name": "python"
  },
  "orig_nbformat": 4
 },
 "nbformat": 4,
 "nbformat_minor": 2
}
