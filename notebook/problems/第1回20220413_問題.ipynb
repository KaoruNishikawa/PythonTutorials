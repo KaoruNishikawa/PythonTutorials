{
 "cells": [
  {
   "cell_type": "markdown",
   "metadata": {},
   "source": [
    "<font color=\"red\">自分で書いたコードを保存するため、「ドライブにコピー」を押してください</font>"
   ]
  },
  {
   "cell_type": "markdown",
   "metadata": {},
   "source": [
    "#### <font color=\"red\">問1</font>\n",
    "\n",
    "2次方程式 $a x^2 + b x + c = 0$ を解くコードを書いてください。\n",
    "\n",
    "```python\n",
    ">>> solve(a=1, b=-3, c=2)\n",
    "(1.0, 2.0)\n",
    "```"
   ]
  },
  {
   "cell_type": "code",
   "execution_count": null,
   "metadata": {},
   "outputs": [],
   "source": []
  },
  {
   "cell_type": "markdown",
   "metadata": {},
   "source": [
    "#### <font color=\"red\">問2</font>\n",
    "\n",
    "閏年を考慮し、1年の日数を出力する関数を作ってください。\n",
    "\n",
    "> - 西暦年が4で割り切れる年は(原則として)閏年。\n",
    "> - ただし、西暦年が100で割り切れる年は(原則として)平年。\n",
    "> - ただし、西暦年が400で割り切れる年は必ず閏年。\n",
    ">\n",
    "> (Wikipediaより)\n",
    "\n",
    "```python\n",
    ">>> days_per_year(2022)\n",
    "365\n",
    "```"
   ]
  },
  {
   "cell_type": "markdown",
   "metadata": {},
   "source": []
  }
 ],
 "metadata": {
  "language_info": {
   "name": "python"
  },
  "orig_nbformat": 4
 },
 "nbformat": 4,
 "nbformat_minor": 2
}
