{
 "cells": [
  {
   "cell_type": "markdown",
   "metadata": {},
   "source": [
    "#### <font color=\"red\">問1</font>\n",
    "\n",
    "第1回で作った関数を (適宜改変して) 使ってUNIX時刻を計算する関数を作ってください。\n",
    "\n",
    "\\*UNIX時刻 : 1970年1月1日0時0分0秒(UTC) からの経過秒数。ほとんどのコンピュータはこの形式で時刻を扱っている。\n",
    "\n",
    "**Hint :** `print` と `return` の違いを調べてみましょう。\n",
    "\n",
    "```python\n",
    ">>> unix(2022, 4, 8, 7, 14, 30)\n",
    "1649402070\n",
    "```"
   ]
  },
  {
   "cell_type": "code",
   "execution_count": null,
   "metadata": {},
   "outputs": [],
   "source": []
  },
  {
   "cell_type": "markdown",
   "metadata": {},
   "source": [
    "---\n",
    "\n",
    "#### リスト内包表記 (list comprehension)\n",
    "\n",
    "Python でリストを作る場合、次のような操作は **必要ない**。\n",
    "\n",
    "- 最初に長さを指定する\n",
    "- 初期値を設定する\n",
    "\n",
    "例えば Chainer のテキストにあったように、空のリストと `append` 関数を使えば次のように値の入ったリストを作ることができる。"
   ]
  },
  {
   "cell_type": "code",
   "execution_count": 1,
   "metadata": {},
   "outputs": [
    {
     "data": {
      "text/plain": [
       "[0, 2, 4, 6, 8, 10, 12, 14, 16, 18]"
      ]
     },
     "execution_count": 1,
     "metadata": {},
     "output_type": "execute_result"
    }
   ],
   "source": [
    "array = []\n",
    "for i in range(10):\n",
    "    array.append(2 * i)\n",
    "\n",
    "array"
   ]
  },
  {
   "cell_type": "markdown",
   "metadata": {},
   "source": [
    "この処理は\n",
    "\n",
    "1. 空のリストを定義する\n",
    "2. そこへ値の追加を繰り返す\n",
    "\n",
    "という2段階の処理を行っている。空のリストを定義せず、最初から値の入ったリストを作るのがリスト内包表記と呼ばれる記法である。\n",
    "\n",
    "リスト内包表記を使えば上のコードは次のように書き直せる。"
   ]
  },
  {
   "cell_type": "code",
   "execution_count": 2,
   "metadata": {},
   "outputs": [
    {
     "data": {
      "text/plain": [
       "[0, 2, 4, 6, 8, 10, 12, 14, 16, 18]"
      ]
     },
     "execution_count": 2,
     "metadata": {},
     "output_type": "execute_result"
    }
   ],
   "source": [
    "array = [2 * i for i in range(10)]\n",
    "\n",
    "array"
   ]
  },
  {
   "cell_type": "markdown",
   "metadata": {},
   "source": [
    "他の型にもこの記法を使うことができる。"
   ]
  },
  {
   "cell_type": "code",
   "execution_count": 4,
   "metadata": {},
   "outputs": [
    {
     "name": "stdout",
     "output_type": "stream",
     "text": [
      "タプル型 : (0, 2, 4, 6, 8, 10, 12, 14, 16, 18)\n",
      "辞書型 : {'a': 0, 'b': 2, 'c': 4, 'd': 6, 'e': 8, 'f': 10, 'g': 12, 'h': 14, 'i': 16, 'j': 18}\n",
      "セット型 : {0, 2, 4, 6, 8, 10, 12, 14, 16, 18}\n"
     ]
    }
   ],
   "source": [
    "tuple_ = tuple(2 * i for i in range(10))\n",
    "dictionary = {k: 2 * v for k, v in zip(\"abcdefghij\", range(10))}\n",
    "set_ = {2 * i for i in range(10)}\n",
    "\n",
    "print(\"タプル型 :\", tuple_)\n",
    "print(\"辞書型 :\", dictionary)\n",
    "print(\"セット型 :\", set_)"
   ]
  },
  {
   "cell_type": "markdown",
   "metadata": {},
   "source": [
    "さらに `if` 文と組み合わせることもできる。\n",
    "\n",
    "ただしあまり複雑な処理をリスト内包表記で書くと読みづらくなるため、ふつうの `for` 文と使い分けること。"
   ]
  },
  {
   "cell_type": "code",
   "execution_count": 5,
   "metadata": {},
   "outputs": [
    {
     "data": {
      "text/plain": [
       "[100, 1, 100, 3, 100, 5, 100, 7, 100, 9]"
      ]
     },
     "execution_count": 5,
     "metadata": {},
     "output_type": "execute_result"
    }
   ],
   "source": [
    "odd_or_100 = [i if i % 2 == 1 else 100 for i in range(10)]\n",
    "odd_or_100"
   ]
  },
  {
   "cell_type": "code",
   "execution_count": 6,
   "metadata": {},
   "outputs": [
    {
     "data": {
      "text/plain": [
       "[1, 3, 5, 7, 9]"
      ]
     },
     "execution_count": 6,
     "metadata": {},
     "output_type": "execute_result"
    }
   ],
   "source": [
    "odd_only = [i for i in range(10) if i % 2 == 1]\n",
    "odd_only"
   ]
  },
  {
   "cell_type": "code",
   "execution_count": 7,
   "metadata": {},
   "outputs": [
    {
     "data": {
      "text/plain": [
       "{'ab': 0,\n",
       " 'b': 100,\n",
       " 'cb': 2,\n",
       " 'db': 300,\n",
       " 'eb': 4,\n",
       " 'fb': 500,\n",
       " 'gb': 6,\n",
       " 'hb': 700,\n",
       " 'ib': 8,\n",
       " 'jb': 900}"
      ]
     },
     "execution_count": 7,
     "metadata": {},
     "output_type": "execute_result"
    }
   ],
   "source": [
    "weird_dict = {\n",
    "    k if k.find(\"b\") != -1 else k + \"b\" : v if v % 2 == 0 else 100 * v\n",
    "    for k, v in zip(\"abcdefghij\", range(10))\n",
    "}\n",
    "weird_dict"
   ]
  },
  {
   "cell_type": "code",
   "execution_count": null,
   "metadata": {},
   "outputs": [],
   "source": []
  }
 ],
 "metadata": {
  "interpreter": {
   "hash": "aee8b7b246df8f9039afb4144a1f6fd8d2ca17a180786b69acc140d282b71a49"
  },
  "kernelspec": {
   "display_name": "Python 3.9.10 64-bit",
   "language": "python",
   "name": "python3"
  },
  "language_info": {
   "codemirror_mode": {
    "name": "ipython",
    "version": 3
   },
   "file_extension": ".py",
   "mimetype": "text/x-python",
   "name": "python",
   "nbconvert_exporter": "python",
   "pygments_lexer": "ipython3",
   "version": "3.9.10"
  },
  "orig_nbformat": 4
 },
 "nbformat": 4,
 "nbformat_minor": 2
}
